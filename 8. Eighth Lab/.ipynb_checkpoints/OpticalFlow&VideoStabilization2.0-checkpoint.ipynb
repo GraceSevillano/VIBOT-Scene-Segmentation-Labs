{
 "cells": [
  {
   "cell_type": "markdown",
   "metadata": {
    "id": "3PEoIbHVM-1d"
   },
   "source": [
    " Video Stabilization"
   ]
  },
  {
   "cell_type": "code",
   "execution_count": 1,
   "metadata": {
    "id": "xFO0ZKLHNDez"
   },
   "outputs": [],
   "source": [
    "from scipy import signal,ndimage\n",
    "import matplotlib.pyplot as plt\n",
    "import os\n",
    "import numpy as np\n",
    "import cv2 as cv"
   ]
  },
  {
   "cell_type": "markdown",
   "metadata": {
    "id": "K7yFnWJRNUar"
   },
   "source": [
    "# Affine Motion"
   ]
  },
  {
   "cell_type": "code",
   "execution_count": 2,
   "metadata": {
    "id": "PO3SjUESVF92"
   },
   "outputs": [],
   "source": [
    "def affine_motion(I1, I2 ):\n",
    "\n",
    "    Gx = np.array([[-1, 1], [-1, 1]])\n",
    "    Gy = np.array([[-1, -1], [1, 1]])\n",
    "    Gt1 = np.array([[-1, -1], [-1, -1]])\n",
    "    Gt2 = np.array([[1, 1], [1, 1]])\n",
    "    \n",
    "    Ix = signal.convolve(I1, Gx, mode='same')\n",
    "    Iy = signal.convolve(I1, Gy, mode='same')\n",
    "    It = signal.convolve(I1, Gt1, mode='same') + signal.convolve(I2, Gt2, mode='same')\n",
    "    \n",
    "    Ix = Ix.flatten()\n",
    "    Iy = Iy.flatten()\n",
    "    It = It.flatten()\n",
    "    y, x = np.indices((I1.shape[0], I1.shape[1])).reshape(2, I1.shape[0]*I1.shape[1])\n",
    "    A = np.array([Ix*x, Ix*y, Ix, Iy*x, Iy*y, Iy]).T\n",
    "    AtA = np.dot(A.T, A)\n",
    "    Atb = np.dot(A.T, -It)\n",
    "\n",
    "    return np.dot(np.linalg.inv(AtA), Atb)"
   ]
  },
  {
   "cell_type": "markdown",
   "metadata": {
    "id": "pJSoZGd4heWb"
   },
   "source": [
    "## Compute the flow components for all pixels given the estimated motion parameters"
   ]
  },
  {
   "cell_type": "code",
   "execution_count": 3,
   "metadata": {
    "id": "fNO3ZM6TYbYg"
   },
   "outputs": [],
   "source": [
    "def compute_flow_fields(theta, I1):\n",
    "  a, b, c, d, e, f = theta\n",
    "  y, x = np.indices((I1.shape[0], I1.shape[1])).reshape(2, I1.shape[0]*I1.shape[1])\n",
    "  U = a*x + b*y + c\n",
    "  V = d*x + e*y + f\n",
    "  U = np.reshape(U, (I1.shape[0], I1.shape[1]))\n",
    "  V = np.reshape(V, (I1.shape[0], I1.shape[1]))\n",
    "\n",
    "  return U, V"
   ]
  },
  {
   "cell_type": "markdown",
   "metadata": {
    "id": "ro1TdjWXivp6"
   },
   "source": [
    "## Compensate Camera Motion"
   ]
  },
  {
   "cell_type": "code",
   "execution_count": 4,
   "metadata": {
    "id": "e6O5QCtIgWfm"
   },
   "outputs": [],
   "source": [
    "def image_warp(I, U, V):\n",
    "    # create coordinates for the pixels.\n",
    "    x = np.linspace(0, I.shape[1]-1 , I.shape[1])\n",
    "    y = np.linspace(0, I.shape[0]-1 , I.shape[0])\n",
    "    xi , yi = np.meshgrid(x,y)\n",
    "    \n",
    "    # warping image intensities to the locations\n",
    "    warped_img = cv.remap(I, (xi + U).astype(np.float32), (yi + V).astype(np.float32), interpolation=cv.INTER_LINEAR)\n",
    "    return warped_img"
   ]
  },
  {
   "cell_type": "code",
   "execution_count": 5,
   "metadata": {
    "id": "TDudvyMHgcUy"
   },
   "outputs": [],
   "source": [
    "def stabilize_images(I1, I2):\n",
    "  theta = affine_motion(I1, I2)\n",
    "  U, V = compute_flow_fields(theta, I1)\n",
    "  out = image_warp(I1, U, V)\n",
    "  return out"
   ]
  },
  {
   "cell_type": "markdown",
   "metadata": {
    "id": "QwcLjpZOiztS"
   },
   "source": [
    "## Compensate Camera Motion for two successive images of Hamburg Sequence"
   ]
  },
  {
   "cell_type": "code",
   "execution_count": 6,
   "metadata": {
    "colab": {
     "base_uri": "https://localhost:8080/",
     "height": 287
    },
    "id": "0eOZ3GLaO17S",
    "outputId": "6180c23c-4b31-4305-eff2-068be577c976"
   },
   "outputs": [
    {
     "ename": "error",
     "evalue": "OpenCV(4.6.0) D:\\a\\opencv-python\\opencv-python\\opencv\\modules\\imgproc\\src\\color.cpp:182: error: (-215:Assertion failed) !_src.empty() in function 'cv::cvtColor'\n",
     "output_type": "error",
     "traceback": [
      "\u001b[1;31m---------------------------------------------------------------------------\u001b[0m",
      "\u001b[1;31merror\u001b[0m                                     Traceback (most recent call last)",
      "Cell \u001b[1;32mIn[6], line 2\u001b[0m\n\u001b[0;32m      1\u001b[0m oldframe \u001b[38;5;241m=\u001b[39m cv\u001b[38;5;241m.\u001b[39mimread(\u001b[38;5;124m\"\u001b[39m\u001b[38;5;124m/data/Hamburg/Motiondt_0011.jpg\u001b[39m\u001b[38;5;124m\"\u001b[39m)\n\u001b[1;32m----> 2\u001b[0m I1 \u001b[38;5;241m=\u001b[39m \u001b[43mcv\u001b[49m\u001b[38;5;241;43m.\u001b[39;49m\u001b[43mcvtColor\u001b[49m\u001b[43m(\u001b[49m\u001b[43moldframe\u001b[49m\u001b[43m,\u001b[49m\u001b[43m \u001b[49m\u001b[43mcv\u001b[49m\u001b[38;5;241;43m.\u001b[39;49m\u001b[43mCOLOR_BGR2GRAY\u001b[49m\u001b[43m)\u001b[49m\n\u001b[0;32m      3\u001b[0m newframe \u001b[38;5;241m=\u001b[39m cv\u001b[38;5;241m.\u001b[39mimread(\u001b[38;5;124m\"\u001b[39m\u001b[38;5;124m/data/Hamburg/Motiondt_0012.jpg\u001b[39m\u001b[38;5;124m\"\u001b[39m)\n\u001b[0;32m      4\u001b[0m I2 \u001b[38;5;241m=\u001b[39m cv\u001b[38;5;241m.\u001b[39mcvtColor(newframe, cv\u001b[38;5;241m.\u001b[39mCOLOR_BGR2GRAY)\n",
      "\u001b[1;31merror\u001b[0m: OpenCV(4.6.0) D:\\a\\opencv-python\\opencv-python\\opencv\\modules\\imgproc\\src\\color.cpp:182: error: (-215:Assertion failed) !_src.empty() in function 'cv::cvtColor'\n"
     ]
    }
   ],
   "source": [
    "oldframe = cv.imread(\"/data/Hamburg/Motiondt_0011.jpg\")\n",
    "I1 = cv.cvtColor(oldframe, cv.COLOR_BGR2GRAY)\n",
    "newframe = cv.imread(\"/data/Hamburg/Motiondt_0012.jpg\")\n",
    "I2 = cv.cvtColor(newframe, cv.COLOR_BGR2GRAY)\n",
    "out = stabilize_images(I1, I2)\n",
    "plt.imshow(out, cmap=\"gray\")"
   ]
  },
  {
   "cell_type": "markdown",
   "metadata": {
    "id": "kd7ZFBURjCwb"
   },
   "source": [
    "## Compensate Camera Motion for two successive images of Taxi Sequence"
   ]
  },
  {
   "cell_type": "code",
   "execution_count": null,
   "metadata": {
    "colab": {
     "base_uri": "https://localhost:8080/",
     "height": 287
    },
    "id": "2MPOtg8OXi_4",
    "outputId": "68e6a983-aefe-4ec1-e731-14a4e05bd64e"
   },
   "outputs": [
    {
     "data": {
      "text/plain": [
       "<matplotlib.image.AxesImage at 0x7f1c3bfe1550>"
      ]
     },
     "execution_count": 72,
     "metadata": {},
     "output_type": "execute_result"
    },
    {
     "data": {
      "image/png": "[encoded data removed]",
      "text/plain": [
       "<Figure size 432x288 with 1 Axes>"
      ]
     },
     "metadata": {
      "needs_background": "light"
     },
     "output_type": "display_data"
    }
   ],
   "source": [
    "oldframe = cv.imread(\"/data/Taxi/MotionTaxi11.jpg\")\n",
    "I1 = cv.cvtColor(oldframe, cv.COLOR_BGR2GRAY)\n",
    "newframe = cv.imread(\"/data/Taxi/MotionTaxi12.jpg\")\n",
    "I2 = cv.cvtColor(newframe, cv.COLOR_BGR2GRAY)\n",
    "out = stabilize_images(I1, I2)\n",
    "plt.imshow(out, cmap=\"gray\")"
   ]
  },
  {
   "cell_type": "markdown",
   "metadata": {
    "id": "Oe2204UJqt5m"
   },
   "source": [
    "## Helper code to generate video"
   ]
  },
  {
   "cell_type": "code",
   "execution_count": null,
   "metadata": {
    "id": "Z8SryvFOqsZd"
   },
   "outputs": [],
   "source": [
    "# function to generate and save a mp4 video from image sequences with a given FPS\n",
    "def write_video(warped_list, video_name, FPS = 15):\n",
    "  img = warped_list[0]\n",
    "  # create a video with the provided FPS\n",
    "  video_writer_warp = cv.VideoWriter('stabilized_video_' + video_name + '.mp4', cv.VideoWriter_fourcc (* 'MP4V'), FPS, (img.shape[1], img.shape[0]))\n",
    "  for i in range (len(warped_list)):\n",
    "    video_writer_warp.write(cv.cvtColor(warped_list[i], cv.COLOR_GRAY2BGR))\n",
    "  video_writer_warp.release()"
   ]
  },
  {
   "cell_type": "markdown",
   "metadata": {
    "id": "qfOpzq9LpLlT"
   },
   "source": [
    "## Generate Stabilized Video for Hamburg"
   ]
  },
  {
   "cell_type": "code",
   "execution_count": null,
   "metadata": {
    "id": "TZ6ZLWPgf3Y3"
   },
   "outputs": [],
   "source": [
    "input_dir = \"/data/Hamburg\"\n",
    "files_list = os.listdir(input_dir)\n",
    "files_list.sort()"
   ]
  },
  {
   "cell_type": "code",
   "execution_count": null,
   "metadata": {
    "id": "W1fuWcL_gfNs"
   },
   "outputs": [],
   "source": [
    "warped_list = []\n",
    "for i in range(len(files_list)):\n",
    "  if i + 1 == len(files_list):\n",
    "        break\n",
    "\n",
    "  oldframe = cv.imread(input_dir + \"/\" + files_list[i])\n",
    "  I1 = cv.cvtColor(oldframe, cv.COLOR_BGR2GRAY)\n",
    "\n",
    "  newframe = cv.imread(input_dir + \"/\" + files_list[i+1])\n",
    "  I2 = cv.cvtColor(newframe, cv.COLOR_BGR2GRAY)\n",
    "\n",
    "  warped_list.append(stabilize_images(I1, I2))\n",
    "\n",
    "write_video(warped_list, \"Hamburg\")"
   ]
  },
  {
   "cell_type": "markdown",
   "metadata": {
    "id": "NtmQm-qTs6Kw"
   },
   "source": [
    "## Generate Stabilized Video for Taxi's"
   ]
  },
  {
   "cell_type": "code",
   "execution_count": null,
   "metadata": {
    "id": "YIuaIXx9gLL_"
   },
   "outputs": [],
   "source": [
    "input_dir = \"/data/Taxi\"\n",
    "files_list = os.listdir(input_dir)\n",
    "files_list.sort()"
   ]
  },
  {
   "cell_type": "code",
   "execution_count": null,
   "metadata": {
    "id": "PCz9QCzneoTz"
   },
   "outputs": [],
   "source": [
    "warped_list = []\n",
    "for i in range(len(files_list)):\n",
    "  if i + 1 == len(files_list):\n",
    "        break\n",
    "\n",
    "  oldframe = cv.imread(input_dir + \"/\" + files_list[i])\n",
    "  I1 = cv.cvtColor(oldframe, cv.COLOR_BGR2GRAY)\n",
    "\n",
    "  newframe = cv.imread(input_dir + \"/\" + files_list[i+1])\n",
    "  I2 = cv.cvtColor(newframe, cv.COLOR_BGR2GRAY)\n",
    "\n",
    "  warped_list.append(stabilize_images(I1, I2))\n",
    "\n",
    "write_video(warped_list, \"Taxi\")"
   ]
  }
 ],
 "metadata": {
  "accelerator": "GPU",
  "colab": {
   "collapsed_sections": [],
   "name": "AR Assignment IV.ipynb",
   "provenance": []
  },
  "kernelspec": {
   "display_name": "Python 3 (ipykernel)",
   "language": "python",
   "name": "python3"
  },
  "language_info": {
   "codemirror_mode": {
    "name": "ipython",
    "version": 3
   },
   "file_extension": ".py",
   "mimetype": "text/x-python",
   "name": "python",
   "nbconvert_exporter": "python",
   "pygments_lexer": "ipython3",
   "version": "3.10.8"
  },
  "nbTranslate": {
   "displayLangs": [
    "*"
   ],
   "hotkey": "alt-t",
   "langInMainMenu": true,
   "sourceLang": "en",
   "targetLang": "fr",
   "useGoogleTranslate": true
  },
  "toc": {
   "base_numbering": 1,
   "nav_menu": {},
   "number_sections": true,
   "sideBar": true,
   "skip_h1_title": false,
   "title_cell": "Table of Contents",
   "title_sidebar": "Contents",
   "toc_cell": false,
   "toc_position": {},
   "toc_section_display": true,
   "toc_window_display": false
  }
 },
 "nbformat": 4,
 "nbformat_minor": 1
}
